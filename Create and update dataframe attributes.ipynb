{
 "cells": [
  {
   "cell_type": "code",
   "execution_count": 2,
   "metadata": {},
   "outputs": [],
   "source": [
    "import numpy as np\n",
    "import pandas as pd"
   ]
  },
  {
   "cell_type": "markdown",
   "metadata": {},
   "source": [
    "# Create dataframe"
   ]
  },
  {
   "cell_type": "code",
   "execution_count": 53,
   "metadata": {},
   "outputs": [
    {
     "name": "stdout",
     "output_type": "stream",
     "text": [
      "    brand   color   owner     MSRP Date Purchased\n",
      "0  Toyota    blue    Adam  18000.0     2020-01-01\n",
      "1  Toyota    blue   David      NaN     2020-02-01\n",
      "2    Ford  silver  Joshua  25000.0     2020-03-01\n",
      "3  Subaru     red    Paul  35000.0     2020-04-01\n",
      "4   Honda     NaN  George  20000.0     2020-05-01\n"
     ]
    },
    {
     "data": {
      "text/plain": [
       "brand              object\n",
       "color              object\n",
       "owner              object\n",
       "MSRP              float64\n",
       "Date Purchased     object\n",
       "dtype: object"
      ]
     },
     "execution_count": 53,
     "metadata": {},
     "output_type": "execute_result"
    }
   ],
   "source": [
    "# Create data frame from dictionary \n",
    "df_dict = {\"brand\": ['Toyota', 'Toyota', 'Ford', 'Subaru','Honda'], \"color\":['blue','blue','silver','red',np.nan], \"owner\":[\"Adam\",\"David\",\"Joshua\",\"Paul\",\"George\"],\"MSRP\":[18000,np.nan,25000,35000,20000],\"Date Purchased\":['2020-01-01','2020-02-01','2020-03-01','2020-04-01','2020-05-01']}\n",
    "df = pd.DataFrame.from_dict(df_dict)\n",
    "print(df)\n",
    "df.dtypes\n",
    "# Create data frame from CSV\n",
    "# df = pd.read_csv(\"C:\\\\cars.csv\")"
   ]
  },
  {
   "cell_type": "markdown",
   "metadata": {},
   "source": [
    "# Update attributes"
   ]
  },
  {
   "cell_type": "code",
   "execution_count": 54,
   "metadata": {},
   "outputs": [],
   "source": [
    "# Change Index\n",
    "# inplace=True modifies the data frame.\n",
    "# If dont specify inplace=True, then it creates a new object and need to do df = df.set_index(...)\n",
    "df.set_index(pd.Series([1000, 1001,1002,1003,1004]), inplace=True)"
   ]
  },
  {
   "cell_type": "code",
   "execution_count": 55,
   "metadata": {},
   "outputs": [],
   "source": [
    "# Convert data puchased to date-time\n",
    "df['Date Purchased']= pd.to_datetime(df['Date Purchased'])"
   ]
  },
  {
   "cell_type": "code",
   "execution_count": 57,
   "metadata": {},
   "outputs": [
    {
     "name": "stdout",
     "output_type": "stream",
     "text": [
      "       brand   color   owner     MSRP Date Purchased\n",
      "1000  Toyota    blue    Adam  18000.0     2020-01-01\n",
      "1001  Toyota    blue   David      NaN     2020-02-01\n",
      "1002    Ford  silver  Joshua  25000.0     2020-03-01\n",
      "1003  Subaru     red    Paul  35000.0     2020-04-01\n",
      "1004   Honda     NaN  George  20000.0     2020-05-01\n"
     ]
    },
    {
     "data": {
      "text/plain": [
       "brand                   category\n",
       "color                   category\n",
       "owner                     object\n",
       "MSRP                     float64\n",
       "Date Purchased    datetime64[ns]\n",
       "dtype: object"
      ]
     },
     "execution_count": 57,
     "metadata": {},
     "output_type": "execute_result"
    }
   ],
   "source": [
    "# Convert color and brand to category\n",
    "df['color'] = df['color'].astype('category')\n",
    "df['brand'] = df['brand'].astype('category')\n",
    "print(df)\n",
    "df.dtypes"
   ]
  }
 ],
 "metadata": {
  "kernelspec": {
   "display_name": "Python 3",
   "language": "python",
   "name": "python3"
  },
  "language_info": {
   "codemirror_mode": {
    "name": "ipython",
    "version": 3
   },
   "file_extension": ".py",
   "mimetype": "text/x-python",
   "name": "python",
   "nbconvert_exporter": "python",
   "pygments_lexer": "ipython3",
   "version": "3.8.3"
  }
 },
 "nbformat": 4,
 "nbformat_minor": 4
}
